{
 "cells": [
  {
   "cell_type": "code",
   "execution_count": 3,
   "metadata": {},
   "outputs": [],
   "source": [
    "import torch\n",
    "import torch.nn as nn\n",
    "import torch.nn.functional as F\n",
    "import numpy as np\n",
    "import torch.optim as optim\n",
    "import tensorflow as tf\n",
    "import torchsnooper"
   ]
  },
  {
   "cell_type": "code",
   "execution_count": 21,
   "metadata": {},
   "outputs": [],
   "source": [
    "class rbm(nn.Module):\n",
    "    def __init__(self,shape,para):\n",
    "        super(rbm,self).__init__()\n",
    "        self.para=para\n",
    "        self.W=torch.from_numpy(np.random.normal(scale=1.0/np.sqrt(shape[0])\n",
    "                                                 ,size=(shape[0],shape[1]))).double().cuda()\n",
    "        self.bv=torch.zeros(shape[0],device='cuda',dtype=torch.double)\n",
    "        self.bh=torch.zeros(shape[1],device='cuda',dtype=torch.double)\n",
    "        print(\"rbm init complete\")\n",
    "#     @torchsnooper.snoop()\n",
    "    def forward(self,v):\n",
    "        v=torch.tensor(v,device='cuda')\n",
    "#         v=v.view(v.shape[1],v.shape[0])\n",
    "        self.h=self.sample(torch.sigmoid(torch.matmul(v,self.W)+self.bh))\n",
    "        v_sample=self.sample(torch.sigmoid(torch.matmul(self.h,\n",
    "                                                        torch.transpose(self.W,0,1)+self.bv)))\n",
    "        h_sample=self.sample(torch.sigmoid(torch.matmul(v_sample,self.W)+\n",
    "                                          self.bh))\n",
    "        lr=self.para[\"learning_rate\"]/torch.tensor(self.para[\"batch_size\"],dtype=torch.double)\n",
    "        self.W=self.W+lr*(torch.matmul(torch.transpose(v,0,1),self.h)-\n",
    "                                        torch.matmul(torch.transpose(v_sample,0,1),h_sample))\n",
    "        self.bv=self.bv+lr*(torch.mean(v-v_sample,0))\n",
    "        self.bh=self.bh+lr*(torch.mean(self.h-h_sample,0))\n",
    "        self.error=torch.sum(torch.pow(v-v_sample,2))\n",
    "        return self.error\n",
    "        \n",
    "        \n",
    "    def sample(self,probs):\n",
    "        x=probs+torch.from_numpy(np.random.normal(\n",
    "                                                    size=probs.shape)).cuda()      \n",
    "        return x//1.0"
   ]
  },
  {
   "cell_type": "code",
   "execution_count": null,
   "metadata": {},
   "outputs": [],
   "source": []
  }
 ],
 "metadata": {
  "kernelspec": {
   "display_name": "Python 3",
   "language": "python",
   "name": "python3"
  },
  "language_info": {
   "codemirror_mode": {
    "name": "ipython",
    "version": 3
   },
   "file_extension": ".py",
   "mimetype": "text/x-python",
   "name": "python",
   "nbconvert_exporter": "python",
   "pygments_lexer": "ipython3",
   "version": "3.7.3"
  }
 },
 "nbformat": 4,
 "nbformat_minor": 2
}

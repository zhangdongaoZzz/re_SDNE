{
 "cells": [
  {
   "cell_type": "code",
   "execution_count": 1,
   "metadata": {},
   "outputs": [
    {
     "name": "stdout",
     "output_type": "stream",
     "text": [
      "importing Jupyter notebook from graph.ipynb\n",
      "importing Jupyter notebook from utils_.ipynb\n",
      "importing Jupyter notebook from config.ipynb\n",
      "importing Jupyter notebook from SDNE.ipynb\n",
      "importing Jupyter notebook from RBM.ipynb\n"
     ]
    }
   ],
   "source": [
    "import configparser\n",
    "import Ipynb_importer\n",
    "from graph import Graph\n",
    "from config import Config\n",
    "from SDNE import SDNE\n",
    "from utils_ import *\n",
    "import scipy.io as sio\n",
    "import time\n",
    "import copy\n",
    "import torch.optim as optim\n",
    "from optparse import OptionParser\n",
    "import os"
   ]
  },
  {
   "cell_type": "code",
   "execution_count": 2,
   "metadata": {},
   "outputs": [
    {
     "name": "stdout",
     "output_type": "stream",
     "text": [
      "negative Sampling\n"
     ]
    },
    {
     "name": "stderr",
     "output_type": "stream",
     "text": [
      "graph.ipynb:53: SparseEfficiencyWarning: Changing the sparsity structure of a csr_matrix is expensive. lil_matrix is more efficient.\n",
      "  \"                self.adj_matrix = sio.loadmat(file_path)[\\\"traingraph_sparse\\\"].tocsr()\\n\",\n",
      "graph.ipynb:54: SparseEfficiencyWarning: Changing the sparsity structure of a csr_matrix is expensive. lil_matrix is more efficient.\n",
      "  \"            self.N, _ = self.adj_matrix.get_shape()\\n\",\n"
     ]
    },
    {
     "name": "stdout",
     "output_type": "stream",
     "text": [
      "negative Sampling done\n",
      "Vertexes : 5242  Edges : 14496 ngSampleRatio: 0.500000\n",
      "negative Sampling\n",
      "negative Sampling done\n",
      "Vertexes : 5242  Edges : 14496 ngSampleRatio: 0.500000\n"
     ]
    }
   ],
   "source": [
    "config=Config('ca-grqc.ini')\n",
    "train_graph_data = Graph(config.train_graph_file, config.ng_sample_ratio)\n",
    "   \n",
    "if config.origin_graph_file:\n",
    "    origin_graph_data = Graph(config.origin_graph_file, config.ng_sample_ratio)\n",
    "\n",
    "if config.label_file:\n",
    "    #load label for classification\n",
    "    train_graph_data.load_label_data(config.label_file)"
   ]
  },
  {
   "cell_type": "code",
   "execution_count": 3,
   "metadata": {},
   "outputs": [
    {
     "name": "stdout",
     "output_type": "stream",
     "text": [
      "rbm init complete\n",
      "rbm epochs: 0 error :  tensor(14719575., device='cuda:0', dtype=torch.float64)\n"
     ]
    }
   ],
   "source": [
    "config.struct[0] = train_graph_data.N\n",
    "model = SDNE(config)\n",
    "model.do_variables_init([train_graph_data])\n",
    "embedding = None"
   ]
  },
  {
   "cell_type": "code",
   "execution_count": 4,
   "metadata": {},
   "outputs": [],
   "source": [
    "mini_batch = train_graph_data.sample(config.batch_size, do_shuffle = False)"
   ]
  },
  {
   "cell_type": "code",
   "execution_count": 5,
   "metadata": {},
   "outputs": [
    {
     "data": {
      "text/plain": [
       "{'X': array([[0., 1., 1., ..., 0., 0., 0.],\n",
       "        [1., 0., 0., ..., 0., 0., 0.],\n",
       "        [1., 0., 0., ..., 0., 0., 0.],\n",
       "        ...,\n",
       "        [0., 0., 0., ..., 0., 0., 0.],\n",
       "        [0., 0., 0., ..., 0., 0., 0.],\n",
       "        [0., 0., 0., ..., 0., 0., 0.]]),\n",
       " 'adjacent_matriX': array([[0., 1., 1., ..., 0., 0., 0.],\n",
       "        [1., 0., 0., ..., 0., 0., 0.],\n",
       "        [1., 0., 0., ..., 0., 0., 0.],\n",
       "        ...,\n",
       "        [0., 0., 0., ..., 0., 0., 0.],\n",
       "        [0., 0., 0., ..., 0., 0., 0.],\n",
       "        [0., 0., 0., ..., 0., 0., 0.]])}"
      ]
     },
     "execution_count": 5,
     "metadata": {},
     "output_type": "execute_result"
    }
   ],
   "source": [
    "mini_batch"
   ]
  },
  {
   "cell_type": "code",
   "execution_count": 33,
   "metadata": {},
   "outputs": [],
   "source": [
    "optimizer=optim.SGD(model.parameters(),lr=0.01,weight_decay=0.01)"
   ]
  },
  {
   "cell_type": "code",
   "execution_count": 38,
   "metadata": {},
   "outputs": [
    {
     "name": "stderr",
     "output_type": "stream",
     "text": [
      "/home/zda/anaconda3/lib/python3.7/site-packages/torch/nn/functional.py:1386: UserWarning: nn.functional.sigmoid is deprecated. Use torch.sigmoid instead.\n",
      "  warnings.warn(\"nn.functional.sigmoid is deprecated. Use torch.sigmoid instead.\")\n"
     ]
    },
    {
     "data": {
      "text/plain": [
       "tensor(1461218.6183, device='cuda:0', dtype=torch.float64,\n",
       "       grad_fn=<AddBackward0>)"
      ]
     },
     "execution_count": 38,
     "metadata": {},
     "output_type": "execute_result"
    }
   ],
   "source": [
    "model.cuda()\n",
    "import torch\n",
    "loss=model(torch.tensor(mini_batch.X,device='cuda'),\n",
    "      torch.tensor(mini_batch.adjacent_matriX,device='cuda'),config)\n",
    "loss"
   ]
  },
  {
   "cell_type": "code",
   "execution_count": null,
   "metadata": {},
   "outputs": [
    {
     "name": "stdout",
     "output_type": "stream",
     "text": [
      "tensor(1989731.5248, device='cuda:0', dtype=torch.float64,\n",
      "       grad_fn=<AddBackward0>)\n",
      "tensor(1525971.5023, device='cuda:0', dtype=torch.float64,\n",
      "       grad_fn=<AddBackward0>)\n",
      "tensor(1882137.8118, device='cuda:0', dtype=torch.float64,\n",
      "       grad_fn=<AddBackward0>)\n"
     ]
    }
   ],
   "source": [
    "for i in range(1000000):\n",
    "    optimizer.zero_grad()\n",
    "    loss.backward()\n",
    "    optimizer.step()\n",
    "    loss=model(torch.tensor(mini_batch.X,device='cuda'),\n",
    "          torch.tensor(mini_batch.adjacent_matriX,device='cuda'),config)\n",
    "    if i%50000==0:\n",
    "        print(loss)"
   ]
  },
  {
   "cell_type": "code",
   "execution_count": 8,
   "metadata": {},
   "outputs": [
    {
     "name": "stdout",
     "output_type": "stream",
     "text": [
      "None tensor([[-0.0659, -0.0575,  0.0107,  ..., -0.0483,  0.0206, -0.0023],\n",
      "        [-0.0944,  0.0179, -0.0209,  ..., -0.1110, -0.0596,  0.0950],\n",
      "        [ 0.0192,  0.0367, -0.0385,  ...,  0.0208,  0.0320,  0.0209],\n",
      "        ...,\n",
      "        [-0.0174, -0.0555, -0.0832,  ...,  0.0549,  0.1306, -0.0657],\n",
      "        [-0.0928, -0.0108, -0.0028,  ..., -0.0247,  0.0014,  0.0010],\n",
      "        [-0.0496, -0.0130, -0.0168,  ..., -0.0281, -0.0570, -0.0442]],\n",
      "       device='cuda:0', dtype=torch.float64)\n",
      "None tensor([0.0380, 0.0401, 0.0372, 0.0379, 0.0369, 0.0372, 0.0372, 0.0388, 0.0380,\n",
      "        0.0382, 0.0359, 0.0393, 0.0387, 0.0397, 0.0373, 0.0386, 0.0372, 0.0346,\n",
      "        0.0409, 0.0392, 0.0401, 0.0408, 0.0386, 0.0351, 0.0385, 0.0384, 0.0385,\n",
      "        0.0401, 0.0378, 0.0374, 0.0408, 0.0382, 0.0348, 0.0401, 0.0403, 0.0376,\n",
      "        0.0397, 0.0372, 0.0417, 0.0375, 0.0389, 0.0365, 0.0410, 0.0374, 0.0403,\n",
      "        0.0389, 0.0385, 0.0368, 0.0397, 0.0356, 0.0387, 0.0394, 0.0350, 0.0388,\n",
      "        0.0390, 0.0389, 0.0404, 0.0350, 0.0354, 0.0350, 0.0382, 0.0394, 0.0397,\n",
      "        0.0359, 0.0378, 0.0370, 0.0382, 0.0377, 0.0365, 0.0332, 0.0392, 0.0414,\n",
      "        0.0379, 0.0398, 0.0392, 0.0344, 0.0383, 0.0355, 0.0373, 0.0370, 0.0379,\n",
      "        0.0357, 0.0383, 0.0371, 0.0389, 0.0361, 0.0366, 0.0378, 0.0376, 0.0375,\n",
      "        0.0371, 0.0399, 0.0385, 0.0395, 0.0365, 0.0386, 0.0350, 0.0404, 0.0391,\n",
      "        0.0393], device='cuda:0', dtype=torch.float64)\n",
      "None tensor([[-0.0659, -0.0944,  0.0192,  ..., -0.0174, -0.0928, -0.0496],\n",
      "        [-0.0575,  0.0179,  0.0367,  ..., -0.0555, -0.0108, -0.0130],\n",
      "        [ 0.0107, -0.0209, -0.0385,  ..., -0.0832, -0.0028, -0.0168],\n",
      "        ...,\n",
      "        [-0.0483, -0.1110,  0.0208,  ...,  0.0549, -0.0247, -0.0281],\n",
      "        [ 0.0206, -0.0596,  0.0320,  ...,  0.1306,  0.0014, -0.0570],\n",
      "        [-0.0023,  0.0950,  0.0209,  ..., -0.0657,  0.0010, -0.0442]],\n",
      "       device='cuda:0', dtype=torch.float64)\n",
      "None tensor([-0.0234, -0.0233, -0.0246,  ..., -0.0258, -0.0234, -0.0223],\n",
      "       device='cuda:0', dtype=torch.float64)\n"
     ]
    }
   ],
   "source": [
    "for x in model.parameters():\n",
    "    print(x.name,x.data)"
   ]
  },
  {
   "cell_type": "code",
   "execution_count": 9,
   "metadata": {},
   "outputs": [
    {
     "ename": "AttributeError",
     "evalue": "'SDNE' object has no attribute 'get_embedding'",
     "output_type": "error",
     "traceback": [
      "\u001b[0;31m---------------------------------------------------------------------------\u001b[0m",
      "\u001b[0;31mAttributeError\u001b[0m                            Traceback (most recent call last)",
      "\u001b[0;32m<ipython-input-9-f2563b8ce48d>\u001b[0m in \u001b[0;36m<module>\u001b[0;34m\u001b[0m\n\u001b[1;32m      2\u001b[0m         \u001b[0mmini_batch\u001b[0m \u001b[0;34m=\u001b[0m \u001b[0mtrain_graph_data\u001b[0m\u001b[0;34m.\u001b[0m\u001b[0msample\u001b[0m\u001b[0;34m(\u001b[0m\u001b[0mconfig\u001b[0m\u001b[0;34m.\u001b[0m\u001b[0mbatch_size\u001b[0m\u001b[0;34m,\u001b[0m \u001b[0mdo_shuffle\u001b[0m \u001b[0;34m=\u001b[0m \u001b[0;32mFalse\u001b[0m\u001b[0;34m)\u001b[0m\u001b[0;34m\u001b[0m\u001b[0;34m\u001b[0m\u001b[0m\n\u001b[1;32m      3\u001b[0m         \u001b[0;32mif\u001b[0m \u001b[0membedding\u001b[0m \u001b[0;32mis\u001b[0m \u001b[0;32mNone\u001b[0m\u001b[0;34m:\u001b[0m\u001b[0;34m\u001b[0m\u001b[0;34m\u001b[0m\u001b[0m\n\u001b[0;32m----> 4\u001b[0;31m             \u001b[0membedding\u001b[0m \u001b[0;34m=\u001b[0m \u001b[0mmodel\u001b[0m\u001b[0;34m.\u001b[0m\u001b[0mget_embedding\u001b[0m\u001b[0;34m(\u001b[0m\u001b[0mmini_batch\u001b[0m\u001b[0;34m)\u001b[0m\u001b[0;34m\u001b[0m\u001b[0;34m\u001b[0m\u001b[0m\n\u001b[0m\u001b[1;32m      5\u001b[0m         \u001b[0;32melse\u001b[0m\u001b[0;34m:\u001b[0m\u001b[0;34m\u001b[0m\u001b[0;34m\u001b[0m\u001b[0m\n\u001b[1;32m      6\u001b[0m             \u001b[0membedding\u001b[0m \u001b[0;34m=\u001b[0m \u001b[0mnp\u001b[0m\u001b[0;34m.\u001b[0m\u001b[0mvstack\u001b[0m\u001b[0;34m(\u001b[0m\u001b[0;34m(\u001b[0m\u001b[0membedding\u001b[0m\u001b[0;34m,\u001b[0m \u001b[0mmodel\u001b[0m\u001b[0;34m.\u001b[0m\u001b[0mget_embedding\u001b[0m\u001b[0;34m(\u001b[0m\u001b[0mmini_batch\u001b[0m\u001b[0;34m)\u001b[0m\u001b[0;34m)\u001b[0m\u001b[0;34m)\u001b[0m\u001b[0;34m\u001b[0m\u001b[0;34m\u001b[0m\u001b[0m\n",
      "\u001b[0;32m~/anaconda3/lib/python3.7/site-packages/torch/nn/modules/module.py\u001b[0m in \u001b[0;36m__getattr__\u001b[0;34m(self, name)\u001b[0m\n\u001b[1;32m    537\u001b[0m                 \u001b[0;32mreturn\u001b[0m \u001b[0mmodules\u001b[0m\u001b[0;34m[\u001b[0m\u001b[0mname\u001b[0m\u001b[0;34m]\u001b[0m\u001b[0;34m\u001b[0m\u001b[0;34m\u001b[0m\u001b[0m\n\u001b[1;32m    538\u001b[0m         raise AttributeError(\"'{}' object has no attribute '{}'\".format(\n\u001b[0;32m--> 539\u001b[0;31m             type(self).__name__, name))\n\u001b[0m\u001b[1;32m    540\u001b[0m \u001b[0;34m\u001b[0m\u001b[0m\n\u001b[1;32m    541\u001b[0m     \u001b[0;32mdef\u001b[0m \u001b[0m__setattr__\u001b[0m\u001b[0;34m(\u001b[0m\u001b[0mself\u001b[0m\u001b[0;34m,\u001b[0m \u001b[0mname\u001b[0m\u001b[0;34m,\u001b[0m \u001b[0mvalue\u001b[0m\u001b[0;34m)\u001b[0m\u001b[0;34m:\u001b[0m\u001b[0;34m\u001b[0m\u001b[0;34m\u001b[0m\u001b[0m\n",
      "\u001b[0;31mAttributeError\u001b[0m: 'SDNE' object has no attribute 'get_embedding'"
     ]
    }
   ],
   "source": [
    "while (True):\n",
    "        mini_batch = train_graph_data.sample(config.batch_size, do_shuffle = False)\n",
    "        if embedding is None:\n",
    "            embedding = model.get_embedding(mini_batch)\n",
    "        else:\n",
    "            embedding = np.vstack((embedding, model.get_embedding(mini_batch))) \n",
    "        if train_graph_data.is_epoch_end:\n",
    "            break"
   ]
  },
  {
   "cell_type": "code",
   "execution_count": null,
   "metadata": {},
   "outputs": [],
   "source": []
  }
 ],
 "metadata": {
  "kernelspec": {
   "display_name": "Python 3",
   "language": "python",
   "name": "python3"
  },
  "language_info": {
   "codemirror_mode": {
    "name": "ipython",
    "version": 3
   },
   "file_extension": ".py",
   "mimetype": "text/x-python",
   "name": "python",
   "nbconvert_exporter": "python",
   "pygments_lexer": "ipython3",
   "version": "3.7.3"
  }
 },
 "nbformat": 4,
 "nbformat_minor": 2
}

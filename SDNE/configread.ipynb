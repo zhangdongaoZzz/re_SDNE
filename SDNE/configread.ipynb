{
 "cells": [
  {
   "cell_type": "code",
   "execution_count": 12,
   "metadata": {},
   "outputs": [
    {
     "name": "stdout",
     "output_type": "stream",
     "text": [
      "importing Jupyter notebook from config.ipynb\n"
     ]
    }
   ],
   "source": [
    "import configparser\n",
    "import Ipynb_importer\n",
    "from config import *"
   ]
  },
  {
   "cell_type": "code",
   "execution_count": 14,
   "metadata": {},
   "outputs": [],
   "source": [
    "config=Config('ca-grqc.ini')"
   ]
  },
  {
   "cell_type": "code",
   "execution_count": 15,
   "metadata": {},
   "outputs": [
    {
     "data": {
      "text/plain": [
       "'GraphData/ca-Grqc.txt'"
      ]
     },
     "execution_count": 15,
     "metadata": {},
     "output_type": "execute_result"
    }
   ],
   "source": [
    "config.train_graph_file"
   ]
  },
  {
   "cell_type": "code",
   "execution_count": null,
   "metadata": {},
   "outputs": [],
   "source": []
  },
  {
   "cell_type": "code",
   "execution_count": null,
   "metadata": {},
   "outputs": [],
   "source": []
  },
  {
   "cell_type": "code",
   "execution_count": 2,
   "metadata": {},
   "outputs": [],
   "source": [
    "config=configparser.ConfigParser()"
   ]
  },
  {
   "cell_type": "code",
   "execution_count": 3,
   "metadata": {},
   "outputs": [
    {
     "data": {
      "text/plain": [
       "['ca-grqc.ini']"
      ]
     },
     "execution_count": 3,
     "metadata": {},
     "output_type": "execute_result"
    }
   ],
   "source": [
    "config.read(\"ca-grqc.ini\",encoding='utf-8')\n",
    "# config.read(\"blogcatalog.ini\",encoding='utf-8')"
   ]
  },
  {
   "cell_type": "code",
   "execution_count": 4,
   "metadata": {},
   "outputs": [
    {
     "data": {
      "text/plain": [
       "['Graph_Data', 'Output', 'Model_Setup']"
      ]
     },
     "execution_count": 4,
     "metadata": {},
     "output_type": "execute_result"
    }
   ],
   "source": [
    "config.sections()"
   ]
  },
  {
   "cell_type": "code",
   "execution_count": 5,
   "metadata": {},
   "outputs": [
    {
     "data": {
      "text/plain": [
       "['struct',\n",
       " 'alpha',\n",
       " 'gamma',\n",
       " 'reg',\n",
       " 'beta',\n",
       " 'batch_size',\n",
       " 'epochs_limit',\n",
       " 'learning_rate',\n",
       " 'display',\n",
       " 'dbn_init',\n",
       " 'dbn_epochs',\n",
       " 'dbn_batch_size',\n",
       " 'dbn_learning_rate',\n",
       " 'ng_sample_ratio']"
      ]
     },
     "execution_count": 5,
     "metadata": {},
     "output_type": "execute_result"
    }
   ],
   "source": [
    "Model_Setup=config.options('Model_Setup')\n",
    "struct_=config.get(\"Model_Setup\",'struct')\n",
    "Model_Setup"
   ]
  },
  {
   "cell_type": "code",
   "execution_count": 6,
   "metadata": {},
   "outputs": [
    {
     "data": {
      "text/plain": [
       "[('origin_graph_file', 'GraphData/ca-Grqc.txt'),\n",
       " ('train_graph_file', 'GraphData/ca-Grqc.txt')]"
      ]
     },
     "execution_count": 6,
     "metadata": {},
     "output_type": "execute_result"
    }
   ],
   "source": [
    "config.items('Graph_Data')"
   ]
  },
  {
   "cell_type": "code",
   "execution_count": 7,
   "metadata": {},
   "outputs": [
    {
     "data": {
      "text/plain": [
       "[('struct', '-1,100'),\n",
       " ('alpha', '100'),\n",
       " ('gamma', '1'),\n",
       " ('reg', '1'),\n",
       " ('beta', '10'),\n",
       " ('batch_size', '32'),\n",
       " ('epochs_limit', '1'),\n",
       " ('learning_rate', '0.01'),\n",
       " ('display', '1'),\n",
       " ('dbn_init', 'True'),\n",
       " ('dbn_epochs', '1'),\n",
       " ('dbn_batch_size', '64'),\n",
       " ('dbn_learning_rate', '0.1'),\n",
       " ('ng_sample_ratio', '0.5')]"
      ]
     },
     "execution_count": 7,
     "metadata": {},
     "output_type": "execute_result"
    }
   ],
   "source": [
    "config.items('Model_Setup')"
   ]
  },
  {
   "cell_type": "code",
   "execution_count": 8,
   "metadata": {},
   "outputs": [
    {
     "data": {
      "text/plain": [
       "[('display', '1'),\n",
       " ('embedding_filename', 'ca-Grqc'),\n",
       " ('check_reconstruction', '10,100'),\n",
       " ('check_link_prediction', '10,1000')]"
      ]
     },
     "execution_count": 8,
     "metadata": {},
     "output_type": "execute_result"
    }
   ],
   "source": [
    "config.items('Output')"
   ]
  },
  {
   "cell_type": "code",
   "execution_count": 1,
   "metadata": {},
   "outputs": [
    {
     "name": "stdout",
     "output_type": "stream",
     "text": [
      "importing Jupyter notebook from RBM.ipynb\n"
     ]
    }
   ],
   "source": [
    "import Ipynb_importer\n",
    "from RBM import *\n",
    "import numpy as np"
   ]
  },
  {
   "cell_type": "code",
   "execution_count": 2,
   "metadata": {},
   "outputs": [],
   "source": [
    "v=np.array([[0., 1., 1.,  0., 0., 0.],\n",
    "       [1., 0., 0., 0., 0., 0.],\n",
    "       [1., 0., 0., 0., 0., 0.]])"
   ]
  },
  {
   "cell_type": "code",
   "execution_count": 3,
   "metadata": {},
   "outputs": [
    {
     "data": {
      "text/plain": [
       "array([[0., 1., 1., 0., 0., 0.],\n",
       "       [1., 0., 0., 0., 0., 0.],\n",
       "       [1., 0., 0., 0., 0., 0.]])"
      ]
     },
     "execution_count": 3,
     "metadata": {},
     "output_type": "execute_result"
    }
   ],
   "source": [
    "v"
   ]
  },
  {
   "cell_type": "code",
   "execution_count": 4,
   "metadata": {},
   "outputs": [
    {
     "name": "stdout",
     "output_type": "stream",
     "text": [
      "rbm init complete\n"
     ]
    }
   ],
   "source": [
    "rb=rbm([v.shape[0],v.shape[1]],{\"batch_size\":1,\"learning_rate\" : 0.01})"
   ]
  },
  {
   "cell_type": "code",
   "execution_count": 5,
   "metadata": {},
   "outputs": [
    {
     "data": {
      "text/plain": [
       "rbm()"
      ]
     },
     "execution_count": 5,
     "metadata": {},
     "output_type": "execute_result"
    }
   ],
   "source": [
    "rb.cuda()"
   ]
  },
  {
   "cell_type": "code",
   "execution_count": 6,
   "metadata": {},
   "outputs": [
    {
     "data": {
      "text/plain": [
       "tensor(12., device='cuda:0', dtype=torch.float64)"
      ]
     },
     "execution_count": 6,
     "metadata": {},
     "output_type": "execute_result"
    }
   ],
   "source": [
    "rb(v)"
   ]
  },
  {
   "cell_type": "code",
   "execution_count": 7,
   "metadata": {},
   "outputs": [
    {
     "name": "stdout",
     "output_type": "stream",
     "text": [
      "> \u001b[0;32m<string>\u001b[0m(19)\u001b[0;36mforward\u001b[0;34m()\u001b[0m\n",
      "\n",
      "ipdb> para\n",
      "*** NameError: name 'para' is not defined\n",
      "ipdb> self.para\n",
      "{'batch_size': 1, 'learning_rate': 0.01}\n",
      "ipdb> self.para['learning_rate']\n",
      "0.01\n",
      "ipdb> quit\n"
     ]
    }
   ],
   "source": [
    "%debug\n"
   ]
  },
  {
   "cell_type": "code",
   "execution_count": null,
   "metadata": {},
   "outputs": [],
   "source": []
  }
 ],
 "metadata": {
  "kernelspec": {
   "display_name": "Python 3",
   "language": "python",
   "name": "python3"
  },
  "language_info": {
   "codemirror_mode": {
    "name": "ipython",
    "version": 3
   },
   "file_extension": ".py",
   "mimetype": "text/x-python",
   "name": "python",
   "nbconvert_exporter": "python",
   "pygments_lexer": "ipython3",
   "version": "3.7.3"
  }
 },
 "nbformat": 4,
 "nbformat_minor": 2
}
